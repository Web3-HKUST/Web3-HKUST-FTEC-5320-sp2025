{
 "cells": [
  {
   "cell_type": "markdown",
   "metadata": {},
   "source": [
    "\n",
    "# Trading on decentralized exchange applications\n",
    "\n",
    "Decentralized exchanges can be categorized into two broad categories:\n",
    "- Dapps mimicking traditional centralized exchanges and implementing an order book\n",
    "- Dapps running DeFi native exchange formats such as AMMs\n",
    "In this lab, we will interact with one exchange of each of the above types through their web app.\n",
    "\n",
    "## Trade on an order book exchange\n",
    "\n",
    "\n",
    "Order book exchange enables trading by running sequential trades on an order book. The order book contains *bids* from agents who want to buy an asset, and *asks* from agents who want to sell the asset. A trade occurs when a bid matches an ask. One can perform two primary types of orders on such an exchange. \n",
    "- A *market order* is an order that executes the trade at the best available bid or asks.\n",
    "- A *limit order* that sets a bid or ask on an order book that is executed at a price within limits set by the order.\n",
    "\n",
    "In this lab, we will interact with dYdX V4, an order book DEX implemented on the dYdX Chain testnet. \n",
    "\n",
    "- Open [dYdX V4 testnet app](https://v4.testnet.dydx.exchange/#/trade/ETH-USD)\n",
    "- Click on the top-right corner to connect your metamask wallet \n",
    "- After the connection, let us deposit fund.\n",
    "\n",
    "Installation:\n",
    "```\n",
    "pip install dydx-v4-client\n",
    "```"
   ]
  },
  {
   "cell_type": "markdown",
   "metadata": {},
   "source": [
    "Getting Test Funds:"
   ]
  },
  {
   "cell_type": "code",
   "execution_count": null,
   "metadata": {
    "vscode": {
     "languageId": "plaintext"
    }
   },
   "outputs": [],
   "source": [
    "from v4_client_py import FaucetClient\n",
    " \n",
    "client = FaucetClient(\n",
    "    host=\"https://faucet.v4testnet.dydx.exchange\",\n",
    ")\n",
    "address = \"your dYdX Chain address\"\n",
    "faucet_response = client.fill(address, 0, 2000)"
   ]
  },
  {
   "cell_type": "markdown",
   "metadata": {},
   "source": [
    "Then you get 100.00 USDC.\n",
    "\n",
    "We will now be performing a market order. Please follow the steps below: \n",
    "- Select market order on the right\n",
    "- Trade 10 USD for ETH - Click on sell and set 10 USD\n",
    "- Notice that you can choose the Leverage as well (here, we use the default)\n",
    "- Click *Place Market Order* \n",
    "- Observe the change of Equity and Buying Power on the top-right\n",
    "- Turn to Fills, check the information such as type, side, amount, price\n",
    "\n",
    "We will now perform a limit order. Please follow the steps below:\n",
    "- Select limit order on the right\n",
    "- Observe the Price of USD for both *bids* and *asks*\n",
    "- Set a price between the lowest of asks and the highest of bids as the Limit Price (fill into the Limit Price)\n",
    "- Trade 10 USD for ETH - Click on sell and set 10 USD\n",
    "- Set other parameters as you want (here, we use the default)\n",
    "- Click *Place Limit Order* \n",
    "- Turn to Orders to see the order in process, observe the change of *asks*\n",
    "- After finishing, turn to Fills to check the information\n",
    "\n",
    "## Trade on an AMM\n",
    "\n",
    "We will be contrasting the above trading experience with Uniswap. Uniswap is an AMM; its implementation is lightweight by design; hence, it can be implemented entirely on an L1 blockchain such as Ethereum. As a contract with dYdX V4, trading on Uniswap does not require an account since it interacts directly with the wallet. We have created a trading pair to exchange HUSD-PEARL. Let us perform a simple HUSD-PEARL trade on Uniswap.\n",
    "\n",
    "- Open the Uniswap app and select swap at [https://app.uniswap.org/#/swap](https://app.uniswap.org/#/swap)\n",
    "- Connect your metamask wallet on the top right\n",
    "- Check HUSD and PEARL funds on metamask\n",
    "- If metamask doesn't show the HUSD/PEARL token; we need to import it (HUSD: 0xe41Fa6BF04aAF0dD6E44d62b1A1Bd8209dc06f69, PEARL: 0x3d1544B6FecE99C62a0f14D32759eb2cCE183670)\n",
    "- Paste the HUSD contract address on the from tab (0xe41Fa6BF04aAF0dD6E44d62b1A1Bd8209dc06f69)\n",
    "- Paste the PREAL contract address on the to tab (0x3d1544B6FecE99C62a0f14D32759eb2cCE183670)\n",
    "- You would need to approve HUSD tokens to be used by the Uniswap contract; click on approve and confirm on Metamask.\n",
    "- Once approval is complete, swap 10 HUSD by clicking on the swap tab and confirming the transaction on Metamask\n",
    "- Click on swap and confirm the transaction on metamask\n",
    "- Select the txid link (on the top-right Pending tab) on Uniswap and observe the trade transaction on Etherscan \n",
    "- The trade should show pending and should be successful in less than 30 sec\n",
    "- Check HUSD and PEARL funds on metamask again\n",
    "\n",
    "\n",
    "\n",
    "Note that all interactions are visible through your metamask wallet since they occur on the Sepolia blockchain. AMMs like Uniswap also allow anyone to create their trading pair, enabling exchanges for long-tail assets such as HUSD and PEARL."
   ]
  },
  {
   "cell_type": "markdown",
   "metadata": {},
   "source": [
    "\n",
    "# Interacting with Uniswap as a Liquidity provider\n",
    "\n",
    "Uniswap allows anyone to provide liquidity to any token pair. Depositing tokens in a token-pair's liquidity pool enables that entity to own a pool and get the exchange fee rewards. In this lab, we will provide liquidity to the HUSD-PEARL liquidity pool on Uniswap. \n",
    "\n",
    "- Open Uniswap app for adding liquidity at [liquidity](https://app.uniswap.org/#/add)\n",
    "- Click on add liquidity\n",
    "- Select the first token in the pair as HUSD (set address as: 0xe41Fa6BF04aAF0dD6E44d62b1A1Bd8209dc06f69)\n",
    "- Select the second token in the pair as PEARL (set address as: 0x3d1544B6FecE99C62a0f14D32759eb2cCE183670)\n",
    "- Set 10 HUSD, which should automatically populate PEARL based on the current state of the bonding curve\n",
    "- Approve spending HUSD and PEARL\n",
    "- Wait for the approval transaction to be included in the chain\n",
    "- Click on supply to add liquidity to the pool\n",
    "- Observe the transaction on Etherscan - it should state that an ERC-721 token was transferred to your account (labeled Uniswap V3)\n",
    "- This ERC721 token is an LP token for the HUSD-PEARL liquidity pool\n",
    "- Check metamask and import the LP pair under assets named as ``Uniswap V3 Positions NFT-V1``\n",
    "- The position should appear on [https://app.uniswap.org/#/pool](https://app.uniswap.org/#/pool)\n",
    "\n",
    "The LP token is like any other token; you can transfer it between accounts and have that account claim ownership of the liquidity pool. To check this, create a new wallet account as follows:\n",
    "- On metamask, click on the 'my accounts' icon on the top right and select ``Create account``\n",
    "- Give it an appropriate name and add funds to it by going to the [Google Cloud faucet](https://cloud.google.com/application/web3/faucet/ethereum/sepolia)\n",
    "\n",
    "Now we will transfer ownership of the liquidity pool by sending LP tokens to your second account\n",
    "- Change your account in your metamask to your original account\n",
    "- Set asset to ``Uniswap V3 Positions NFT-V1``\n",
    "- Select send, followed by transfer between my accounts, followed by your second account\n",
    "- Confirm the transaction\n",
    "- Import ``Uniswap V3 Positions NFT-V1`` token on your second account\n",
    "- Go to Uniswap and check the status of your Liquidity positions on [https://app.uniswap.org/#/pool](https://app.uniswap.org/#/pool)\n",
    "- Notice that it does not show any liquidity available for the first account\n",
    "- Go to metamask and switch to the second account (click on connect)\n",
    "- Observe that all liquidity is shown in the second account\n",
    "- Liquidate the positions (click on remove liquidity and set max) and observe the tokens transferred to your account (you may have to import UETH and UHKD to your second metamask account)"
   ]
  }
 ],
 "metadata": {
  "language_info": {
   "name": "python"
  }
 },
 "nbformat": 4,
 "nbformat_minor": 2
}
